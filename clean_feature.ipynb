{
 "cells": [
  {
   "cell_type": "markdown",
   "metadata": {},
   "source": [
    "### Importing Libraries\n"
   ]
  },
  {
   "cell_type": "code",
   "execution_count": null,
   "metadata": {},
   "outputs": [],
   "source": [
    "import numpy as np\n",
    "import pandas as pd\n",
    "pd.set_option('display.max_columns', None)\n",
    "\n",
    "import matplotlib as mpl\n",
    "import matplotlib.pyplot as plt\n",
    "import matplotlib.pylab as pylab\n",
    "import seaborn as sns \n",
    "\n",
    "import importlib\n",
    "from helper import utility as ut\n",
    "importlib.reload(ut)\n"
   ]
  },
  {
   "cell_type": "markdown",
   "metadata": {},
   "source": [
    "### Importing the dataset"
   ]
  },
  {
   "cell_type": "code",
   "execution_count": null,
   "metadata": {},
   "outputs": [],
   "source": [
    "FILE_PATH = 'data/'\n",
    "# Load in 2016 Properties data and 2016 training data\n",
    "prop_2016 = ut.load_properties_data(FILE_PATH + 'properties_2016.csv')\n",
    "prop_2017 = ut.load_properties_data(FILE_PATH + 'properties_2017.csv')\n",
    "train_2016 = ut.load_data(FILE_PATH + 'train_2016_v2.csv')\n",
    "train_2017 = ut.load_data(FILE_PATH + 'train_2017.csv')\n",
    "\n",
    "print(f\"Prop 2016|| Number of columns = {len(prop_2016.columns)} | Number of Rows : {len(prop_2016)}\")\n",
    "print(f\"Prop_2017|| Number of columns = {len(prop_2017.columns)} | Number of Rows : {len(prop_2017)}\")\n",
    "\n",
    "print(f\"Train_2016|| Number of columns = {len(train_2016.columns)} | Number of Rows : {len(train_2016)}\")\n",
    "print(f\"Train_2017|| Number of columns = {len(train_2017.columns)} | Number of Rows : {len(train_2017)}\")"
   ]
  },
  {
   "cell_type": "markdown",
   "metadata": {},
   "source": [
    "### Feature Engineering on Properties Data Set"
   ]
  },
  {
   "cell_type": "code",
   "execution_count": null,
   "metadata": {},
   "outputs": [],
   "source": [
    "landuse_code = ut.get_landuse_code_df(prop_2016, prop_2017)\n",
    "zone_code = ut.get_zoning_desc_code_df(prop_2016, prop_2017)\n",
    "\n",
    "prop_2016_clean = ut.process_columns(prop_2016, landuse_code, zone_code)\n",
    "prop_2017_clean = ut.process_columns(prop_2017, landuse_code, zone_code)\n",
    "\n",
    "# Our flagged out list of categorical values\n",
    "categorical_list = ['airconditioningtypeid', 'architecturalstyletypeid', 'buildingclasstypeid',\n",
    "                             'heatingorsystemtypeid', 'regionidcounty', 'typeconstructiontypeid', 'fips', 'propertylandusetypeid','propertycountylandusecode_id', 'propertyzoningdesc_id']\n",
    "\n",
    "# Changing certain columns to categorical type \n",
    "# Reducing float64 to float32 for optimisation purposes\n",
    "prop_2016_clean = ut.retype_columns(prop_2016_clean, categorical_list)\n",
    "prop_2016_clean = ut.feature_engineering(prop_2016_clean)\n",
    "\n",
    "prop_2017_clean = ut.retype_columns(prop_2017_clean, categorical_list)\n",
    "prop_2017_clean = ut.feature_engineering(prop_2017_clean)\n",
    "\n",
    "print(f\"Prop_2016 after processing|| Number of columns = {len(prop_2016_clean.columns)} | Number of Rows : {len(prop_2016_clean)}\")\n",
    "print(f\"Prop_2017 after processing|| Number of columns = {len(prop_2017_clean.columns)} | Number of Rows : {len(prop_2017_clean)}\")\n"
   ]
  },
  {
   "cell_type": "code",
   "execution_count": null,
   "metadata": {},
   "outputs": [],
   "source": [
    "# Save this copy of data\n",
    "prop_2016_clean.to_csv('clean_data/prop_2016_clean.csv', index=False)\n",
    "prop_2017_clean.to_csv('clean_data/prop_2017_clean.csv', index=False)"
   ]
  },
  {
   "cell_type": "markdown",
   "metadata": {},
   "source": [
    "### Preparing for Training Data\n"
   ]
  },
  {
   "cell_type": "code",
   "execution_count": null,
   "metadata": {},
   "outputs": [],
   "source": [
    "train_2016 = train_2016.merge(how='left' , right=prop_2016_clean , on='parcelid')\n",
    "train_2017 = train_2017.merge(how='left' , right=prop_2017_clean, on='parcelid')\n",
    "\n",
    "train_combined = pd.concat([train_2016, train_2017], axis=0, ignore_index=True)\n",
    "\n",
    "print(f\"Num of Rows : {len(train_combined)}\")\n",
    "\n",
    "# Add Feature based on trasactiondate from train dataset provided\n",
    "train_combined = ut.add_ymq_features(train_combined)\n",
    "\n",
    "train_combined.head()"
   ]
  },
  {
   "cell_type": "code",
   "execution_count": null,
   "metadata": {},
   "outputs": [],
   "source": [
    "train_combined.to_csv('clean_data/train_combined.csv', index=False)"
   ]
  }
 ],
 "metadata": {
  "kernelspec": {
   "display_name": "Python 3",
   "language": "python",
   "name": "python3"
  },
  "language_info": {
   "codemirror_mode": {
    "name": "ipython",
    "version": 3
   },
   "file_extension": ".py",
   "mimetype": "text/x-python",
   "name": "python",
   "nbconvert_exporter": "python",
   "pygments_lexer": "ipython3",
   "version": "3.11.6"
  }
 },
 "nbformat": 4,
 "nbformat_minor": 2
}
