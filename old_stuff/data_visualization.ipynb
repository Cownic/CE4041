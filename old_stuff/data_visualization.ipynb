{
 "cells": [
  {
   "cell_type": "code",
   "execution_count": null,
   "metadata": {},
   "outputs": [],
   "source": [
    "#import libraries\n",
    "import numpy as np\n",
    "import pandas as pd\n",
    "import matplotlib.pyplot as plt\n",
    "import seaborn as sb\n",
    "sb.set()\n",
    "\n",
    "#utility\n",
    "from helper import utility"
   ]
  },
  {
   "cell_type": "code",
   "execution_count": null,
   "metadata": {},
   "outputs": [],
   "source": [
    "#load data \n",
    "prop_2016 = utility.load_data('data/properties_2016.csv')\n",
    "prop_2017 = utility.load_data('data/properties_2017.csv')\n",
    "#train_2016 = utility.load_data('data/train_2016_v2.csv')\n",
    "#train_2017 = utility.load_data('data/train_2017.csv')\n",
    "train_2016=pd.read_csv('data/train_2016_v2.csv', parse_dates=[\"transactiondate\"])\n",
    "train_2017=pd.read_csv('data/train_2017.csv', parse_dates=[\"transactiondate\"])"
   ]
  },
  {
   "cell_type": "code",
   "execution_count": null,
   "metadata": {},
   "outputs": [],
   "source": [
    "#see data\n",
    "print(prop_2016.shape)\n",
    "prop_2016.head()\n"
   ]
  },
  {
   "cell_type": "code",
   "execution_count": null,
   "metadata": {},
   "outputs": [],
   "source": [
    "#see data\n",
    "print(train_2016.shape)\n",
    "train_2016.head()"
   ]
  },
  {
   "cell_type": "code",
   "execution_count": null,
   "metadata": {},
   "outputs": [],
   "source": [
    "#join training data with properties data \n",
    "merged_train_2016=pd.merge(train_2016,prop_2016, on='parcelid', how='left')\n",
    "merged_train_2017=pd.merge(train_2017,prop_2017, on='parcelid', how='left')\n",
    "merged_train_2016.head()"
   ]
  },
  {
   "cell_type": "code",
   "execution_count": null,
   "metadata": {},
   "outputs": [],
   "source": [
    "#looking at the data types of each variables\n",
    "merged_train_2016.dtypes"
   ]
  },
  {
   "cell_type": "code",
   "execution_count": null,
   "metadata": {},
   "outputs": [],
   "source": [
    "#see percentage of missing features in data\n",
    "utility.print_percent_missing(merged_train_2016)"
   ]
  },
  {
   "cell_type": "code",
   "execution_count": null,
   "metadata": {},
   "outputs": [],
   "source": [
    "#correlation coefficient "
   ]
  },
  {
   "cell_type": "code",
   "execution_count": null,
   "metadata": {},
   "outputs": [],
   "source": [
    "#looking at distribution of log error \n",
    "print(train_2016['logerror'].describe())\n",
    "train_2016['logerror'].hist()"
   ]
  },
  {
   "cell_type": "code",
   "execution_count": null,
   "metadata": {},
   "outputs": [],
   "source": [
    "#removing outliers in logerror for better distribution\n",
    "ulimit = np.percentile(train_2016['logerror'].values, 99)\n",
    "llimit = np.percentile(train_2016['logerror'].values, 1)\n",
    "\n",
    "train_2016['logerror'].loc[train_2016['logerror'] > ulimit] = ulimit\n",
    "train_2016['logerror'].loc[train_2016['logerror'] < llimit] = llimit\n",
    "\n",
    "plt.figure(figsize = (12, 8))\n",
    "train_2016['logerror'].hist(bins=20)\n",
    "plt.xlabel('logerror', fontsize = 12)\n",
    "plt.show()"
   ]
  },
  {
   "cell_type": "code",
   "execution_count": null,
   "metadata": {},
   "outputs": [],
   "source": [
    "#observing datetime transaction \n",
    "\n",
    "train_2016['transaction_month'] = train_2016['transactiondate'].dt.month\n",
    "\n",
    "count = train_2016['transaction_month'].value_counts()\n",
    "plt.figure(figsize = (12,6))\n",
    "sb.barplot(x=count.index, y=count.values)\n",
    "plt.xlabel('Month of transaction', fontsize = 12)\n",
    "plt.ylabel('Count', fontsize = 12)\n",
    "plt.show()"
   ]
  },
  {
   "cell_type": "code",
   "execution_count": null,
   "metadata": {},
   "outputs": [],
   "source": [
    "#longitude and latitude distribution \n",
    "plt.figure(figsize=(12,12))\n",
    "sb.jointplot(x=prop_2016['latitude'].values, y=prop_2016['longitude'].values)\n",
    "plt.ylabel('Longitude', fontsize=12)\n",
    "plt.xlabel('Latitude', fontsize=12)\n",
    "plt.show()"
   ]
  },
  {
   "cell_type": "code",
   "execution_count": null,
   "metadata": {},
   "outputs": [],
   "source": [
    "#logerror with respect to latitude and longitude \n",
    "from plotnine import ggplot, aes, labs, geom_point\n",
    "from plotnine.scales import scale_color_gradient\n",
    "from ggplot import *\n",
    "ggplot(train_2016) +\\\n",
    "    aes(x='latitude', y='longitude', color = 'logerror') + \\\n",
    "    geom_point()  + \\\n",
    "    scale_color_gradient(low = 'red', high = 'blue')"
   ]
  },
  {
   "cell_type": "code",
   "execution_count": null,
   "metadata": {},
   "outputs": [],
   "source": []
  }
 ],
 "metadata": {
  "kernelspec": {
   "display_name": "Python 3",
   "language": "python",
   "name": "python3"
  },
  "language_info": {
   "codemirror_mode": {
    "name": "ipython",
    "version": 3
   },
   "file_extension": ".py",
   "mimetype": "text/x-python",
   "name": "python",
   "nbconvert_exporter": "python",
   "pygments_lexer": "ipython3",
   "version": "3.9.0"
  }
 },
 "nbformat": 4,
 "nbformat_minor": 2
}
