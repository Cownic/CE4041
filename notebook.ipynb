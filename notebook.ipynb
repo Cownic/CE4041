{
 "cells": [
  {
   "cell_type": "code",
   "execution_count": 52,
   "metadata": {},
   "outputs": [
    {
     "data": {
      "text/plain": [
       "<module 'helper.utility' from 'c:\\\\Users\\\\Lewkh\\\\Documents\\\\GitHub\\\\CE4041_ML\\\\helper\\\\utility.py'>"
      ]
     },
     "execution_count": 52,
     "metadata": {},
     "output_type": "execute_result"
    }
   ],
   "source": [
    "#\n",
    "# import libariry\n",
    "#\n",
    "import numpy as np\n",
    "import pandas as pd\n",
    "# data precession\n",
    "from sklearn.preprocessing import LabelEncoder\n",
    "from sklearn.model_selection import KFold\n",
    "# model\n",
    "from xgboost import XGBRegressor\n",
    "from lightgbm import LGBMRegressor\n",
    "\n",
    "from sklearn.svm import SVR\n",
    "from sklearn.ensemble import RandomForestRegressor, ExtraTreesRegressor, AdaBoostRegressor\n",
    "from sklearn.linear_model import LinearRegression\n",
    "from sklearn.tree import DecisionTreeRegressor\n",
    "\n",
    "from helper import utility\n",
    "import importlib\n",
    "importlib.reload(utility)\n"
   ]
  },
  {
   "cell_type": "code",
   "execution_count": 53,
   "metadata": {},
   "outputs": [
    {
     "name": "stderr",
     "output_type": "stream",
     "text": [
      "c:\\Users\\Lewkh\\Documents\\GitHub\\CE4041_ML\\helper\\utility.py:7: DtypeWarning: Columns (22,32,34,49,55) have mixed types. Specify dtype option on import or set low_memory=False.\n",
      "  return pd.read_csv(file_path)\n",
      "c:\\Users\\Lewkh\\Documents\\GitHub\\CE4041_ML\\helper\\utility.py:7: DtypeWarning: Columns (49) have mixed types. Specify dtype option on import or set low_memory=False.\n",
      "  return pd.read_csv(file_path)\n"
     ]
    }
   ],
   "source": [
    "prop_2016 = utility.load_data('data/properties_2016.csv')\n",
    "prop_2017 = utility.load_data('data/properties_2017.csv')"
   ]
  },
  {
   "cell_type": "code",
   "execution_count": 54,
   "metadata": {},
   "outputs": [
    {
     "name": "stdout",
     "output_type": "stream",
     "text": [
      "parcelid : 0.0%\n",
      "\n",
      "fips : 0.38312122703307666%\n",
      "\n",
      "latitude : 0.38312122703307666%\n",
      "\n",
      "longitude : 0.38312122703307666%\n",
      "\n",
      "propertylandusetypeid : 0.38312122703307666%\n",
      "\n",
      "rawcensustractandblock : 0.38312122703307666%\n",
      "\n",
      "regionidcounty : 0.38312122703307666%\n",
      "\n",
      "assessmentyear : 0.38318822383766404%\n",
      "\n",
      "bedroomcnt : 0.3835567062628948%\n",
      "\n",
      "bathroomcnt : 0.38395868709041925%\n",
      "\n",
      "roomcnt : 0.3843941663202374%\n",
      "\n",
      "propertycountylandusecode : 0.4112598849597868%\n",
      "\n",
      "regionidzip : 0.46830766406596236%\n",
      "\n",
      "taxamount : 1.0468250716782062%\n",
      "\n",
      "taxvaluedollarcnt : 1.4253570175970458%\n",
      "\n",
      "structuretaxvaluedollarcnt : 1.8418091549123563%\n",
      "\n",
      "calculatedfinishedsquarefeet : 1.8613387234495853%\n",
      "\n",
      "yearbuilt : 2.0074922526570096%\n",
      "\n",
      "regionidcity : 2.10520709214774%\n",
      "\n",
      "landtaxvaluedollarcnt : 2.268947282559358%\n",
      "\n",
      "censustractandblock : 2.5167014659235827%\n",
      "\n",
      "calculatedbathnbr : 4.31834603648579%\n",
      "\n",
      "fullbathcnt : 4.31834603648579%\n",
      "\n",
      "finishedsquarefeet12 : 9.24666448033761%\n",
      "\n",
      "lotsizesquarefeet : 9.248875374888994%\n",
      "\n",
      "propertyzoningdesc : 33.71908976801352%\n",
      "\n",
      "unitcnt : 33.75724444822604%\n",
      "\n",
      "buildingqualitytypeid : 35.06374913448503%\n",
      "\n",
      "heatingorsystemtypeid : 39.488452598253325%\n",
      "\n",
      "regionidneighborhood : 61.26238059075773%\n",
      "\n",
      "garagecarcnt : 70.41196670124819%\n",
      "\n",
      "garagetotalsqft : 70.41196670124819%\n",
      "\n",
      "airconditioningtypeid : 72.81541006901676%\n",
      "\n",
      "numberofstories : 77.15177824593657%\n",
      "\n",
      "poolcnt : 82.66343786733091%\n",
      "\n",
      "pooltypeid7 : 83.73789912090143%\n",
      "\n",
      "fireplacecnt : 89.5271600021037%\n",
      "\n",
      "threequarterbathnbr : 89.56085939481116%\n",
      "\n",
      "finishedfloor1squarefeet : 93.20930438222749%\n",
      "\n",
      "finishedsquarefeet50 : 93.20930438222749%\n",
      "\n",
      "finishedsquarefeet15 : 93.60857183916613%\n",
      "\n",
      "yardbuildingsqft17 : 97.30823588368953%\n",
      "\n",
      "hashottuborspa : 97.68814126410241%\n",
      "\n",
      "taxdelinquencyyear : 98.10854621288838%\n",
      "\n",
      "taxdelinquencyflag : 98.10861320969296%\n",
      "\n",
      "pooltypeid10 : 98.76260251767292%\n",
      "\n",
      "pooltypeid2 : 98.92553874642948%\n",
      "\n",
      "poolsizesum : 99.06338467186806%\n",
      "\n",
      "finishedsquarefeet6 : 99.26300165113625%\n",
      "\n",
      "decktypeid : 99.42731131438686%\n",
      "\n",
      "buildingclasstypeid : 99.57694867743282%\n",
      "\n",
      "finishedsquarefeet13 : 99.74300025760272%\n",
      "\n",
      "typeconstructiontypeid : 99.7739862797244%\n",
      "\n",
      "architecturalstyletypeid : 99.79696618369786%\n",
      "\n",
      "fireplaceflag : 99.82704774895761%\n",
      "\n",
      "yardbuildingsqft26 : 99.91132972912857%\n",
      "\n",
      "basementsqft : 99.94546460106585%\n",
      "\n",
      "storytypeid : 99.94559859467502%\n",
      "\n"
     ]
    }
   ],
   "source": [
    "utility.print_percent_missing(prop_2016)"
   ]
  }
 ],
 "metadata": {
  "kernelspec": {
   "display_name": "Python 3",
   "language": "python",
   "name": "python3"
  },
  "language_info": {
   "codemirror_mode": {
    "name": "ipython",
    "version": 3
   },
   "file_extension": ".py",
   "mimetype": "text/x-python",
   "name": "python",
   "nbconvert_exporter": "python",
   "pygments_lexer": "ipython3",
   "version": "3.11.6"
  }
 },
 "nbformat": 4,
 "nbformat_minor": 2
}
