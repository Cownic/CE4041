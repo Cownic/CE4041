{
 "cells": [
  {
   "cell_type": "markdown",
   "metadata": {},
   "source": [
    "### Importing Libraries"
   ]
  },
  {
   "cell_type": "code",
   "execution_count": 131,
   "metadata": {},
   "outputs": [
    {
     "data": {
      "text/plain": [
       "<module 'helper.utility' from 'c:\\\\Users\\\\Lewkh\\\\OneDrive\\\\Documents\\\\GitHub\\\\CE4041_ML\\\\helper\\\\utility.py'>"
      ]
     },
     "execution_count": 131,
     "metadata": {},
     "output_type": "execute_result"
    }
   ],
   "source": [
    "import gc #garbage collector\n",
    "import numpy as np\n",
    "import pandas as pd\n",
    "import matplotlib.pyplot as plt\n",
    "import seaborn as sns\n",
    "\n",
    "from sklearn.model_selection import train_test_split\n",
    "\n",
    "import warnings\n",
    "warnings.filterwarnings('ignore')\n",
    "\n",
    "from helper import utility\n",
    "import importlib\n",
    "importlib.reload(utility)\n"
   ]
  },
  {
   "cell_type": "markdown",
   "metadata": {},
   "source": [
    "### Importing Zillow Datasets"
   ]
  },
  {
   "cell_type": "code",
   "execution_count": 123,
   "metadata": {},
   "outputs": [],
   "source": [
    "# Raw data set provided\n",
    "prop_2016 = utility.load_data('data/properties_2016.csv')\n",
    "prop_2017 = utility.load_data('data/properties_2017.csv')\n",
    "train_2016 = utility.load_data('data/train_2016_v2.csv')\n",
    "train_2017 = utility.load_data('data/train_2017.csv')"
   ]
  },
  {
   "cell_type": "code",
   "execution_count": 124,
   "metadata": {},
   "outputs": [
    {
     "data": {
      "text/plain": [
       "(167888, 60)"
      ]
     },
     "execution_count": 124,
     "metadata": {},
     "output_type": "execute_result"
    }
   ],
   "source": [
    "# Combining the prop dataset with its corresponding train datasets on their parcelid\n",
    "# left join is used so that all properties without logerror will be ignored\n",
    "training_2016 = utility.merge_data(train_2016, prop_2016, 'parcelid')\n",
    "training_2017 = utility.merge_data(train_2017, prop_2017, 'parcelid')\n",
    "\n",
    "\n",
    "\n",
    "# Data across the 2 years are combined into one data frame for processing at later stages\n",
    "training_all = pd.concat([training_2016, training_2017] , ignore_index=True)\n",
    "properties_all = pd.concat([prop_2016, prop_2017], ignore_index=True) \n",
    "\n",
    "\n",
    "training_all.shape\n",
    "#properties_all.shape\n"
   ]
  },
  {
   "cell_type": "code",
   "execution_count": 125,
   "metadata": {},
   "outputs": [
    {
     "name": "stdout",
     "output_type": "stream",
     "text": [
      "There are 0 duplicate IDs for 167888 total entries\n"
     ]
    }
   ],
   "source": [
    "# Check and Drop any duplicates in the training dataset\n",
    "# Duplicates are those which have the same parcelid and transactiondate\n",
    "\n",
    "training_all.shape\n",
    "utility.check_duplicates(training_all)\n",
    "training_all = utility.drop_dups(training_all)"
   ]
  },
  {
   "cell_type": "code",
   "execution_count": 126,
   "metadata": {},
   "outputs": [
    {
     "data": {
      "text/plain": [
       "(167888, 60)"
      ]
     },
     "execution_count": 126,
     "metadata": {},
     "output_type": "execute_result"
    }
   ],
   "source": [
    "# We can see that there are no duplicates in the dataset so far\n",
    "training_all.shape"
   ]
  },
  {
   "cell_type": "markdown",
   "metadata": {},
   "source": [
    "### Looking at the Target Variable - logerror"
   ]
  },
  {
   "cell_type": "code",
   "execution_count": 127,
   "metadata": {},
   "outputs": [
    {
     "data": {
      "image/png": "[encoded data removed]",
      "text/plain": [
       "<Figure size 800x400 with 1 Axes>"
      ]
     },
     "metadata": {},
     "output_type": "display_data"
    }
   ],
   "source": [
    "target_y = training_all['logerror']\n",
    "\n",
    "\n",
    "target_y.hist(bins=50, figsize=(8,4))\n",
    "plt.show()"
   ]
  },
  {
   "cell_type": "code",
   "execution_count": 128,
   "metadata": {},
   "outputs": [
    {
     "data": {
      "text/plain": [
       "count    167888.000000\n",
       "mean          0.013906\n",
       "std           0.165706\n",
       "min          -4.655420\n",
       "25%          -0.025300\n",
       "50%           0.006000\n",
       "75%           0.039200\n",
       "max           5.262999\n",
       "Name: logerror, dtype: float64"
      ]
     },
     "execution_count": 128,
     "metadata": {},
     "output_type": "execute_result"
    }
   ],
   "source": [
    "target_y.describe()"
   ]
  },
  {
   "cell_type": "code",
   "execution_count": 129,
   "metadata": {},
   "outputs": [
    {
     "data": {
      "text/plain": [
       "(164566, 60)"
      ]
     },
     "execution_count": 129,
     "metadata": {},
     "output_type": "execute_result"
    }
   ],
   "source": [
    "# Drop outliers that are more than 2.5 std away from mean\n",
    "upper_threshold = target_y.mean() + (2.5*target_y.std())\n",
    "lower_threshold = target_y.mean() - (2.5*target_y.std())\n",
    "\n",
    "\n",
    "# Remove data that have their target y value as outliers\n",
    "training_all = training_all[training_all['logerror'] < upper_threshold]\n",
    "training_all = training_all[training_all['logerror'] > lower_threshold]\n",
    "training_all.shape\n",
    "\n"
   ]
  },
  {
   "cell_type": "code",
   "execution_count": 130,
   "metadata": {},
   "outputs": [
    {
     "data": {
      "text/plain": [
       "(164538, 60)"
      ]
     },
     "execution_count": 130,
     "metadata": {},
     "output_type": "execute_result"
    }
   ],
   "source": [
    "# Remove the row if the amount of NaN missing values is more than 76%\n",
    "REMOVAL_THRESHOLD = 75.0\n",
    "min_count = int(((100-REMOVAL_THRESHOLD)/100)*training_all.shape[1] + 1)\n",
    "training_all = training_all.dropna(axis=0, thresh=min_count)\n",
    "\n",
    "training_all.shape"
   ]
  },
  {
   "cell_type": "markdown",
   "metadata": {},
   "source": [
    "### Data Preprocessing"
   ]
  },
  {
   "cell_type": "code",
   "execution_count": null,
   "metadata": {},
   "outputs": [],
   "source": []
  }
 ],
 "metadata": {
  "kernelspec": {
   "display_name": "Python 3",
   "language": "python",
   "name": "python3"
  },
  "language_info": {
   "codemirror_mode": {
    "name": "ipython",
    "version": 3
   },
   "file_extension": ".py",
   "mimetype": "text/x-python",
   "name": "python",
   "nbconvert_exporter": "python",
   "pygments_lexer": "ipython3",
   "version": "3.11.6"
  }
 },
 "nbformat": 4,
 "nbformat_minor": 2
}
